{
 "cells": [
  {
   "cell_type": "code",
   "execution_count": null,
   "metadata": {},
   "outputs": [],
   "source": [
    "#######################"
   ]
  },
  {
   "cell_type": "code",
   "execution_count": 2,
   "metadata": {},
   "outputs": [],
   "source": [
    "import os\n",
    "from astropy.io import fits\n",
    "import numpy as np\n",
    "import pandas as pd\n",
    "from astropy.table import Table\n",
    "\n",
    "from scipy import interpolate\n",
    "\n",
    "\n",
    "\n"
   ]
  },
  {
   "cell_type": "code",
   "execution_count": 8,
   "metadata": {},
   "outputs": [],
   "source": [
    "#低分光谱\n",
    "hdu = fits.open(r'C:\\Users\\15200\\Desktop\\Lamost用户培训会\\中分610811210-低分697301115\\med-58091-NGC103901_sp11-210.fits')"
   ]
  },
  {
   "cell_type": "code",
   "execution_count": 9,
   "metadata": {
    "scrolled": true
   },
   "outputs": [
    {
     "data": {
      "text/plain": [
       "XTENSION= 'BINTABLE'           /Binary table written by MWRFITS v1.11b          \n",
       "BITPIX  =                    8 /Required value                                  \n",
       "NAXIS   =                    2 /Required value                                  \n",
       "NAXIS1  =                   16 /Number of bytes per row                         \n",
       "NAXIS2  =                 4102 /Number of rows                                  \n",
       "PCOUNT  =                    0 /Normally 0 (no varying arrays)                  \n",
       "GCOUNT  =                    1 /Required value                                  \n",
       "TFIELDS =                    5 /Number of columns in table                      \n",
       "COMMENT                                                                         \n",
       "COMMENT  *** End of mandatory fields ***                                        \n",
       "COMMENT                                                                         \n",
       "COMMENT                                                                         \n",
       "COMMENT  *** End of mandatory fields ***                                        \n",
       "COMMENT                                                                         \n",
       "EXTNAME = 'COADD_B '           / The extension name                             \n",
       "LMJMLIST= '83650898-83650912-83650925' / Local Modified Julian Minute list      \n",
       "DATE-OBS= '2017-12-03T13:57:00' / The observation median UTC                    \n",
       "DATE-BEG= '2017-12-03T21:39:00.0' / The observation start local time            \n",
       "DATE-END= '2017-12-03T22:15:44.0' / The observation end local time              \n",
       "LAMPLIST= 'lampsc_med.dat'     / Arc lamp emission line list                    \n",
       "SNR     =                36.00 / Signal to noise ratio                          \n",
       "COMMENT                                                                         \n",
       "COMMENT  *** Column names ***                                                   \n",
       "COMMENT                                                                         \n",
       "COMMENT                                                                         \n",
       "COMMENT  *** Column names ***                                                   \n",
       "COMMENT                                                                         \n",
       "TTYPE1  = 'FLUX    '           /                                                \n",
       "TTYPE2  = 'IVAR    '           /                                                \n",
       "TTYPE3  = 'LOGLAM  '           /                                                \n",
       "TTYPE4  = 'ANDMASK '           /                                                \n",
       "TTYPE5  = 'ORMASK  '           /                                                \n",
       "COMMENT                                                                         \n",
       "COMMENT  *** Column formats ***                                                 \n",
       "COMMENT                                                                         \n",
       "COMMENT                                                                         \n",
       "COMMENT  *** Column formats ***                                                 \n",
       "COMMENT                                                                         \n",
       "TFORM1  = 'E       '           /                                                \n",
       "TFORM2  = 'E       '           /                                                \n",
       "TFORM3  = 'E       '           /                                                \n",
       "TFORM4  = 'I       '           /                                                \n",
       "TFORM5  = 'I       '           /                                                "
      ]
     },
     "execution_count": 9,
     "metadata": {},
     "output_type": "execute_result"
    }
   ],
   "source": [
    "hdu[1].header"
   ]
  },
  {
   "cell_type": "code",
   "execution_count": 10,
   "metadata": {},
   "outputs": [
    {
     "data": {
      "text/plain": [
       "FITS_rec([(742.70465, 0.00112976, 3.69029  , 0, 0),\n",
       "          (847.9777 , 0.00112292, 3.6903   , 0, 0),\n",
       "          (755.45026, 0.00114265, 3.69031  , 0, 0), ...,\n",
       "          (  0.     , 0.        , 3.73128  , 0, 0),\n",
       "          (  0.     , 0.        , 3.7312899, 0, 0),\n",
       "          (  0.     , 0.        , 3.7312999, 0, 0)],\n",
       "         dtype=(numpy.record, [('FLUX', '>f4'), ('IVAR', '>f4'), ('LOGLAM', '>f4'), ('ANDMASK', '>i2'), ('ORMASK', '>i2')]))"
      ]
     },
     "execution_count": 10,
     "metadata": {},
     "output_type": "execute_result"
    }
   ],
   "source": [
    "hdu[1].data"
   ]
  },
  {
   "cell_type": "code",
   "execution_count": 11,
   "metadata": {},
   "outputs": [
    {
     "data": {
      "text/plain": [
       "SIMPLE  =                    T /Primary Header created by MWRFITS v1.11b        \n",
       "BITPIX  =                   16 /                                                \n",
       "NAXIS   =                    0 /                                                \n",
       "EXTEND  =                    T /Extensions may be present                       \n",
       "                                                                                \n",
       "COMMENT --------FILE INFORMATION                                                \n",
       "FILENAME= 'med-58091-NGC103901_sp11-210.fits' /                                 \n",
       "OBSID   =            610811210 / Unique number ID of this spectrum              \n",
       "AUTHOR  = 'LAMOST Pipeline'    / Who compiled the information                   \n",
       "DATA_V  = 'LAMOST DR8'         / Data release version                           \n",
       "N_EXTEN =                    9 / The extension number                           \n",
       "EXTNAME = 'Information'        / The extension name                             \n",
       "ORIGIN  = 'NAOC-LAMOST'        / Organization responsible for creating this file\n",
       "DATE    = '2020-02-19T12:50:48' / Time when this HDU is created (UTC)           \n",
       "COMMENT --------TELESCOPE PARAMETERS                                            \n",
       "TELESCOP= 'LAMOST  '           / GuoShouJing Telescope                          \n",
       "LONGITUD=               117.58 / [deg] Longitude of site                        \n",
       "LATITUDE=                40.39 / [deg] Latitude of site                         \n",
       "FOCUS   =                19964 / [mm] Telescope focus                           \n",
       "CAMPRO  = 'NEWCAM  '           / Camera program name                            \n",
       "CAMVER  = 'v2.0    '           / Camera program version                         \n",
       "COMMENT --------OBSERVATION PARAMETERS                                          \n",
       "DATE-OBS= '2017-12-03T13:57:00' / The observation median UTC                    \n",
       "DATE-BEG= '2017-12-03T21:39:00.0' / The observation start local time            \n",
       "DATE-END= '2017-12-03T22:15:44.0' / The observation end local time              \n",
       "LMJD    =                58091 / Local Modified Julian Day                      \n",
       "MJD     =                58090 / Modified Julian Day                            \n",
       "PLANID  = 'NGC103901'          / Plan ID in use                                 \n",
       "RA      =            40.969052 / [deg] Right ascension of object                \n",
       "DEC     =            45.167732 / [deg] Declination of object                    \n",
       "RA_OBS  =            40.969052 / [deg] Right ascension during observing         \n",
       "DEC_OBS =            45.167732 / [deg] Declination during observing             \n",
       "OFFSET  =                    F / Whether there's a offset during observing      \n",
       "OFFSET_V=                 0.00 / Offset value in arcsecond                      \n",
       "GL      =           142.890545 / [deg] Galactic longitude of object             \n",
       "GB      =           -13.302168 / [deg] Galactic latitude of object              \n",
       "DESIG   = 'LAMOST J024352.57+451003.8' / Designation of LAMOST target           \n",
       "FIBERID =                  210 / Fiber ID of Object                             \n",
       "CELL_ID = 'G0204   '           / Fiber Unit ID on the focal plane               \n",
       "X_VALUE =             -104.810 / [mm] X coordinate of object on the focal plane \n",
       "Y_VALUE =             -858.036 / [mm] Y coordinate of object on the focal plane \n",
       "OBJNAME = 'UCAC4_676-014555'   / Name of object                                 \n",
       "OBJTYPE = 'STAR    '           / Object type from input catalog                 \n",
       "TSOURCE = 'LAMOST  '           / Name of input catalog                          \n",
       "TCOMMENT= '        '           / Target information                             \n",
       "TFROM   = '        '           / Target catalog                                 \n",
       "FIBERTYP= 'Obj     '           / Fiber type of object                           \n",
       "FIBERMAS=                    0 / Bitmask of warning values, 0 means all is well \n",
       "MAGTYPE = 'JHKVGRI '           / Magnitude type of object                       \n",
       "MAG1    =                10.04 / [mag] Mag1 of object                           \n",
       "MAG2    =                 9.49 / [mag] Mag2 of object                           \n",
       "MAG3    =                 9.34 / [mag] Mag3 of object                           \n",
       "MAG4    =                11.92 / [mag] Mag4 of object                           \n",
       "MAG5    =                12.47 / [mag] Mag5 of object                           \n",
       "MAG6    =                11.58 / [mag] Mag6 of object                           \n",
       "MAG7    =                11.21 / [mag] Mag7 of object                           \n",
       "OBS_TYPE= 'OBJ     '           / The type of target (OBJ, FLAT, ARC or BIAS)    \n",
       "OBSCOMM = 'Science '           / Science or Test                                \n",
       "RADECSYS= 'FK5     '           / Equatorial coordinate system                   \n",
       "EQUINOX =              2000.00 / Equinox in years                               \n",
       "SKYLIST = 'skylines.dat'       / Sky emission line list                         \n",
       "NEXP_B  =                    3 / Number of valid blue exposures                 \n",
       "COMBIN_B=                    T / Whether the combined data of B band exists     \n",
       "NEXP_R  =                    3 / Number of valid red exposures                  \n",
       "COMBIN_R=                    T / Whether the combined data of R band exists     \n",
       "SCAMEAN =                24.30 / [ADU] Mean level of scatter light              \n",
       "COMMENT --------SPECTROGRAPH PARAMETERS                                         \n",
       "SPID    =                   11 / Spectrograph ID                                \n",
       "SPRA    =           40.5762281 / [deg] Average RA of this spectrograph          \n",
       "SPDEC   =           44.7316479 / [deg] Average DEC of this spectrograph         \n",
       "SLIT_MOD= 'x2/3    '           / Slit mode, x1, x2/3 or x1/2                    \n",
       "COMMENT --------WEATHER CONDITION                                               \n",
       "SEEING  =                 3.10 / [arcsec] Seeing during exposure                \n",
       "MOONPHA =                14.80 / [day] Moon phase for a 29.53 days period       \n",
       "TEMP_AIR=                -7.74 / [deg] Temperature outside dome                 \n",
       "TEMP_FP =                -2.90 / [degree celsius] Temprature of the focalplane  \n",
       "DEWPOINT=               -23.49 / [deg]                                          \n",
       "DUST    = '        '           / Reservation                                    \n",
       "HUMIDITY=                26.95 /                                                \n",
       "WINDD   =               163.98 / [deg] Wind direction                           \n",
       "WINDS   =                 3.09 / [m/s] Wind speed                               \n",
       "SKYLEVEL= '        '           / Reservation                                    \n",
       "COMMENT --------DATA REDUCTION PARAMETERS                                       \n",
       "EXTRACT = 'aperture'           / Extraction method                              \n",
       "SFLATTEN=                    T / Super flat has been applied                    \n",
       "PCASKYSB=                    T / PCA sky-subtraction has been applied           \n",
       "NSKIES  =                   27 / Sky fiber number                               \n",
       "SKYCHI2 =                  3.9 / Mean chi^2 of sky-subtraction                  \n",
       "HELIO   =                    T / Heliocentric correction                        \n",
       "HELIO_RV=              8.82750 / [km/s] Heliocentric correction                 \n",
       "VACUUM  =                    T / Wavelengths are in vacuum                      "
      ]
     },
     "execution_count": 11,
     "metadata": {},
     "output_type": "execute_result"
    }
   ],
   "source": [
    "hdu[0].header"
   ]
  },
  {
   "cell_type": "code",
   "execution_count": 12,
   "metadata": {},
   "outputs": [],
   "source": []
  },
  {
   "cell_type": "code",
   "execution_count": null,
   "metadata": {},
   "outputs": [],
   "source": []
  }
 ],
 "metadata": {
  "kernelspec": {
   "display_name": "Python 3",
   "language": "python",
   "name": "python3"
  },
  "language_info": {
   "codemirror_mode": {
    "name": "ipython",
    "version": 3
   },
   "file_extension": ".py",
   "mimetype": "text/x-python",
   "name": "python",
   "nbconvert_exporter": "python",
   "pygments_lexer": "ipython3",
   "version": "3.8.3 (tags/v3.8.3:6f8c832, May 13 2020, 22:37:02) [MSC v.1924 64 bit (AMD64)]"
  },
  "vscode": {
   "interpreter": {
    "hash": "570feb405e2e27c949193ac68f46852414290d515b0ba6e5d90d076ed2284471"
   }
  }
 },
 "nbformat": 4,
 "nbformat_minor": 4
}
